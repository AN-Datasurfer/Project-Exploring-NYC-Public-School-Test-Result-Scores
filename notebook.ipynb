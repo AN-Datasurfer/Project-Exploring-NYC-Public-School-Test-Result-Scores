{
 "cells": [
  {
   "cell_type": "markdown",
   "id": "fe0ea788-58dd-459e-8976-fafdb5c05c6d",
   "metadata": {},
   "source": [
    "![New York City schoolbus](schoolbus.jpg)\n",
    "\n",
    "Photo by [Jannis Lucas](https://unsplash.com/@jannis_lucas) on [Unsplash](https://unsplash.com).\n",
    "<br>\n",
    "\n",
    "Every year, American high school students take SATs, which are standardized tests intended to measure literacy, numeracy, and writing skills. There are three sections - reading, math, and writing, each with a **maximum score of 800 points**. These tests are extremely important for students and colleges, as they play a pivotal role in the admissions process.\n",
    "\n",
    "Analyzing the performance of schools is important for a variety of stakeholders, including policy and education professionals, researchers, government, and even parents considering which school their children should attend. \n",
    "\n",
    "You have been provided with a dataset called `schools.csv`, which is previewed below.\n",
    "\n",
    "You have been tasked with answering three key questions about New York City (NYC) public school SAT performance."
   ]
  },
  {
   "cell_type": "code",
   "execution_count": 13,
   "id": "d0eb4f16-5a99-460d-a5ba-706b7ef0bbe7",
   "metadata": {
    "executionCancelledAt": null,
    "executionTime": null,
    "id": "bA5ajAmk7XH6",
    "lastExecutedAt": null,
    "lastExecutedByKernel": null,
    "lastScheduledRunId": null,
    "lastSuccessfullyExecutedCode": null,
    "outputsMetadata": {
     "0": {
      "height": 262,
      "tableState": {
       "customFilter": {
        "const": {
         "type": "boolean",
         "valid": true,
         "value": true
        },
        "id": "d0782337-c97b-48d9-a2a6-abae2986d746",
        "nodeType": "const"
       },
       "quickFilterText": ""
      },
      "type": "dataFrame"
     }
    }
   },
   "outputs": [
    {
     "data": {
      "text/html": [
       "<div>\n",
       "<style scoped>\n",
       "    .dataframe tbody tr th:only-of-type {\n",
       "        vertical-align: middle;\n",
       "    }\n",
       "\n",
       "    .dataframe tbody tr th {\n",
       "        vertical-align: top;\n",
       "    }\n",
       "\n",
       "    .dataframe thead th {\n",
       "        text-align: right;\n",
       "    }\n",
       "</style>\n",
       "<table border=\"1\" class=\"dataframe\">\n",
       "  <thead>\n",
       "    <tr style=\"text-align: right;\">\n",
       "      <th></th>\n",
       "      <th>school_name</th>\n",
       "      <th>borough</th>\n",
       "      <th>building_code</th>\n",
       "      <th>average_math</th>\n",
       "      <th>average_reading</th>\n",
       "      <th>average_writing</th>\n",
       "      <th>percent_tested</th>\n",
       "    </tr>\n",
       "  </thead>\n",
       "  <tbody>\n",
       "    <tr>\n",
       "      <th>0</th>\n",
       "      <td>New Explorations into Science, Technology and ...</td>\n",
       "      <td>Manhattan</td>\n",
       "      <td>M022</td>\n",
       "      <td>657</td>\n",
       "      <td>601</td>\n",
       "      <td>601</td>\n",
       "      <td>NaN</td>\n",
       "    </tr>\n",
       "    <tr>\n",
       "      <th>1</th>\n",
       "      <td>Essex Street Academy</td>\n",
       "      <td>Manhattan</td>\n",
       "      <td>M445</td>\n",
       "      <td>395</td>\n",
       "      <td>411</td>\n",
       "      <td>387</td>\n",
       "      <td>78.9</td>\n",
       "    </tr>\n",
       "    <tr>\n",
       "      <th>2</th>\n",
       "      <td>Lower Manhattan Arts Academy</td>\n",
       "      <td>Manhattan</td>\n",
       "      <td>M445</td>\n",
       "      <td>418</td>\n",
       "      <td>428</td>\n",
       "      <td>415</td>\n",
       "      <td>65.1</td>\n",
       "    </tr>\n",
       "    <tr>\n",
       "      <th>3</th>\n",
       "      <td>High School for Dual Language and Asian Studies</td>\n",
       "      <td>Manhattan</td>\n",
       "      <td>M445</td>\n",
       "      <td>613</td>\n",
       "      <td>453</td>\n",
       "      <td>463</td>\n",
       "      <td>95.9</td>\n",
       "    </tr>\n",
       "    <tr>\n",
       "      <th>4</th>\n",
       "      <td>Henry Street School for International Studies</td>\n",
       "      <td>Manhattan</td>\n",
       "      <td>M056</td>\n",
       "      <td>410</td>\n",
       "      <td>406</td>\n",
       "      <td>381</td>\n",
       "      <td>59.7</td>\n",
       "    </tr>\n",
       "  </tbody>\n",
       "</table>\n",
       "</div>"
      ],
      "text/plain": [
       "                                         school_name    borough building_code  \\\n",
       "0  New Explorations into Science, Technology and ...  Manhattan          M022   \n",
       "1                               Essex Street Academy  Manhattan          M445   \n",
       "2                       Lower Manhattan Arts Academy  Manhattan          M445   \n",
       "3    High School for Dual Language and Asian Studies  Manhattan          M445   \n",
       "4      Henry Street School for International Studies  Manhattan          M056   \n",
       "\n",
       "   average_math  average_reading  average_writing  percent_tested  \n",
       "0           657              601              601             NaN  \n",
       "1           395              411              387            78.9  \n",
       "2           418              428              415            65.1  \n",
       "3           613              453              463            95.9  \n",
       "4           410              406              381            59.7  "
      ]
     },
     "execution_count": 13,
     "metadata": {},
     "output_type": "execute_result"
    }
   ],
   "source": [
    "# Re-run this cell \n",
    "import pandas as pd\n",
    "\n",
    "# Read in the data\n",
    "schools = pd.read_csv(\"schools.csv\")\n",
    "\n",
    "# Preview the data\n",
    "schools.head()\n",
    "\n",
    "# Start coding here...\n",
    "# Add as many cells as you like..."
   ]
  },
  {
   "cell_type": "markdown",
   "id": "2c3d58cd-abf4-48c3-b312-0a81b35047d7",
   "metadata": {},
   "source": [
    "Which NYC schools have the best math results?\n",
    "\n",
    "The best math results are at least 80% of the *maximum possible score of 800* for math.\n",
    "Save your results in a pandas DataFrame called best_math_schools, including \"school_name\" and \"average_math\" columns, sorted by \"average_math\" in descending order."
   ]
  },
  {
   "cell_type": "code",
   "execution_count": 14,
   "id": "897a3e09-23a5-4685-87bd-177c4763e606",
   "metadata": {
    "executionCancelledAt": null,
    "executionTime": 50,
    "lastExecutedAt": 1739190065028,
    "lastExecutedByKernel": "594cee99-18f0-4033-859c-2ffcff491bf8",
    "lastScheduledRunId": null,
    "lastSuccessfullyExecutedCode": "# Finding best score\nbest_math_schools = schools[schools[\"average_math\"] > 800 * 0.8][[\"school_name\", \"average_math\"]].sort_values(\"average_math\", ascending=False)",
    "outputsMetadata": {
     "0": {
      "height": 248,
      "type": "stream"
     }
    }
   },
   "outputs": [
    {
     "name": "stdout",
     "output_type": "stream",
     "text": [
      "                                           school_name  average_math\n",
      "88                              Stuyvesant High School           754\n",
      "170                       Bronx High School of Science           714\n",
      "93                 Staten Island Technical High School           711\n",
      "365  Queens High School for the Sciences at York Co...           701\n",
      "68   High School for Mathematics, Science, and Engi...           683\n",
      "280                     Brooklyn Technical High School           682\n",
      "333                        Townsend Harris High School           680\n",
      "174  High School of American Studies at Lehman College           669\n",
      "0    New Explorations into Science, Technology and ...           657\n",
      "45                       Eleanor Roosevelt High School           641\n"
     ]
    }
   ],
   "source": [
    "# Finding best score\n",
    "best_math_schools = schools[schools[\"average_math\"] > 800 * 0.8][[\"school_name\", \"average_math\"]].sort_values(\"average_math\", ascending=False)\n",
    "print(best_math_schools)"
   ]
  },
  {
   "cell_type": "markdown",
   "id": "62d873ae-2592-4607-8fb2-47c56f400a7f",
   "metadata": {},
   "source": [
    "What are the top 10 performing schools based on the combined SAT scores?\n",
    "\n",
    "Save your results as a pandas DataFrame called top_10_schools containing the \"school_name\" and a new column named \"total_SAT\", with results ordered by \"total_SAT\" in descending order (\"total_SAT\" being the sum of math, reading, and writing scores)."
   ]
  },
  {
   "cell_type": "code",
   "execution_count": 15,
   "id": "6deebca1-6b79-4e5e-bd82-5be3b43357da",
   "metadata": {
    "executionCancelledAt": null,
    "executionTime": null,
    "lastExecutedAt": null,
    "lastExecutedByKernel": null,
    "lastScheduledRunId": null,
    "lastSuccessfullyExecutedCode": null,
    "outputsMetadata": {
     "0": {
      "height": 248,
      "type": "stream"
     }
    }
   },
   "outputs": [
    {
     "name": "stdout",
     "output_type": "stream",
     "text": [
      "                                           school_name  total_SAT\n",
      "88                              Stuyvesant High School       2144\n",
      "170                       Bronx High School of Science       2041\n",
      "93                 Staten Island Technical High School       2041\n",
      "174  High School of American Studies at Lehman College       2013\n",
      "333                        Townsend Harris High School       1981\n",
      "365  Queens High School for the Sciences at York Co...       1947\n",
      "5                       Bard High School Early College       1914\n",
      "280                     Brooklyn Technical High School       1896\n",
      "45                       Eleanor Roosevelt High School       1889\n",
      "68   High School for Mathematics, Science, and Engi...       1889\n"
     ]
    }
   ],
   "source": [
    "#Adding new column \n",
    "schools[\"total_SAT\"] = schools[\"average_math\"]+schools[\"average_reading\"]+schools[\"average_writing\"]\n",
    "\n",
    "top_schools = schools.sort_values(\"total_SAT\", ascending = False).iloc[0:10]\n",
    "top_10_schools = top_schools[[\"school_name\",\"total_SAT\"]]\n",
    "print(top_10_schools)"
   ]
  },
  {
   "cell_type": "markdown",
   "id": "243291e1-b238-419d-832c-d345595466a1",
   "metadata": {},
   "source": [
    "Which single borough has the largest standard deviation in the combined SAT score?\n",
    "\n",
    " Save your results as a pandas DataFrame called largest_std_dev.\n",
    " \n",
    " The DataFrame should contain one row, with:\n",
    "   -\"borough\" - the name of the NYC borough with the largest standard deviation of \"total_SAT\".\n",
    "   -\"num_schools\" - the number of schools in the borough.\n",
    "   -\"average_SAT\" - the mean of \"total_SAT\".\n",
    "   -\"std_SAT\" - the standard deviation of \"total_SAT\".\n",
    "\n",
    "Round all numeric values to two decimal places."
   ]
  },
  {
   "cell_type": "code",
   "execution_count": 16,
   "id": "0909b40f-5210-4df0-8301-4f0096b4a8c3",
   "metadata": {
    "executionCancelledAt": null,
    "executionTime": null,
    "lastExecutedAt": null,
    "lastExecutedByKernel": null,
    "lastScheduledRunId": null,
    "lastSuccessfullyExecutedCode": null,
    "outputsMetadata": {
     "0": {
      "height": 80,
      "type": "stream"
     }
    }
   },
   "outputs": [
    {
     "name": "stdout",
     "output_type": "stream",
     "text": [
      "           num_schools  average_SAT  std_dev  std_SAT\n",
      "borough                                              \n",
      "Manhattan           89      1340.13   230.29   230.29\n"
     ]
    }
   ],
   "source": [
    "# Calculation of standard deviation and mean\n",
    "schools_grouped = schools.groupby('borough')[\"total_SAT\"].agg([\"std\", \"mean\", \"count\"]).round(2).sort_values(\"std\", ascending=False)\n",
    "\n",
    "# Renaming columns\n",
    "schools_grouped.rename(columns={\"std\": \"std_dev\", \"mean\": \"average_SAT\", \"count\": \"num_schools\"}, inplace=True)\n",
    "\n",
    "# Adding the std_SAT column\n",
    "schools_grouped[\"std_SAT\"] = schools_grouped[\"std_dev\"]\n",
    "\n",
    "# Creating the object largest_std_dev with a single row\n",
    "largest_std_dev = schools_grouped.head(1)[[\"num_schools\", \"average_SAT\", \"std_dev\", \"std_SAT\"]]\n",
    "\n",
    "print(largest_std_dev)"
   ]
  }
 ],
 "metadata": {
  "editor": "DataLab",
  "kernelspec": {
   "display_name": "base",
   "language": "python",
   "name": "python3"
  },
  "language_info": {
   "codemirror_mode": {
    "name": "ipython",
    "version": 3
   },
   "file_extension": ".py",
   "mimetype": "text/x-python",
   "name": "python",
   "nbconvert_exporter": "python",
   "pygments_lexer": "ipython3",
   "version": "3.11.5"
  }
 },
 "nbformat": 4,
 "nbformat_minor": 5
}
